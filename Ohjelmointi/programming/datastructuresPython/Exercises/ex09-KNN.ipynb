{
 "cells": [
  {
   "cell_type": "markdown",
   "id": "f5140ca7-001a-4e9f-be5b-19899ac4c4e8",
   "metadata": {},
   "source": [
    "## Exercise 9 - K-nearest neighbors\n",
    "\n",
    "- Use the same dataset as in previous exercise (ex08) (can be downloaded [here](http://student.labranet.jamk.fi/~hantt/data/voice.csv))\n",
    "- Dataset includes male and female voice samples with different features\n",
    "- In this exercise you will use supervised machine learning method called K-nearest neighbors for the dataset"
   ]
  },
  {
   "cell_type": "markdown",
   "id": "d1aeffdd-9d7d-4492-8a1d-7883f1bdcaeb",
   "metadata": {},
   "source": [
    "1 Import all necessary libraries. Then load the dataset and save it to the dataframe."
   ]
  },
  {
   "cell_type": "code",
   "execution_count": null,
   "id": "950151a8-a8dd-4d1d-8cbb-4c67723b46ca",
   "metadata": {},
   "outputs": [],
   "source": [
    "import numpy as np\n",
    "import pandas as pd\n",
    "import matplotlib.pyplot as plt\n",
    "from matplotlib.colors import ListedColormap\n",
    "from sklearn import neighbors\n",
    "from sklearn.model_selection import train_test_split\n",
    "\n",
    "data = pd.read_csv(\"data_files/voice.csv\")\n",
    "\n",
    "X = data.iloc[:, :-1].values\n",
    "y = data.iloc[:, -1].values\n",
    "\n",
    "X_train, X_test, y_train, y_test = train_test_split(X, y, test_size=0.3, random_state=42)\n",
    "\n",
    "knn = neighbors.KNeighborsClassifier(n_neighbors=5)\n",
    "\n",
    "knn.fit(X_train, y_train)\n",
    "\n",
    "y_pred = knn.predict(X_test)\n",
    "\n",
    "accuracy = knn.score(X_test, y_test)\n",
    "print(\"Accuracy:\", accuracy)\n"
   ]
  },
  {
   "cell_type": "markdown",
   "id": "af98e26a-b4a4-4619-9382-c5a062e4efa3",
   "metadata": {},
   "source": [
    "2 filter the data so that only the following columns will be selected: **meanfun** and **IQR**. Then split the dataset so that 75 % of the data will be used for training."
   ]
  },
  {
   "cell_type": "code",
   "execution_count": 1,
   "id": "ee33c23c-a986-4fe7-a680-6893d102662c",
   "metadata": {},
   "outputs": [
    {
     "name": "stdout",
     "output_type": "stream",
     "text": [
      "Training set shape: (2376, 2)\n",
      "Testing set shape: (792, 2)\n"
     ]
    }
   ],
   "source": [
    "import pandas as pd\n",
    "from sklearn.model_selection import train_test_split\n",
    "\n",
    "\n",
    "data = pd.read_csv(\"data_files/voice.csv\", usecols=['meanfun', 'IQR', 'label'])\n",
    "\n",
    "X_train, X_test, y_train, y_test = train_test_split(\n",
    "    data[['meanfun', 'IQR']], data['label'], test_size=0.25, random_state=42)\n",
    "\n",
    "print(\"Training set shape:\", X_train.shape)\n",
    "print(\"Testing set shape:\", X_test.shape)\n"
   ]
  },
  {
   "cell_type": "markdown",
   "id": "4fcfa704-bfc3-4d67-8d3e-14eb7a04c912",
   "metadata": {},
   "source": [
    "3 Find the optimal value for k comparing possible values and error rate."
   ]
  },
  {
   "cell_type": "code",
   "execution_count": 2,
   "id": "7aa27cfa-b925-436d-be18-1cdc81e20d2f",
   "metadata": {},
   "outputs": [
    {
     "name": "stdout",
     "output_type": "stream",
     "text": [
      "Best k value: 4\n",
      "Accuracy: 0.97\n"
     ]
    }
   ],
   "source": [
    "import pandas as pd\n",
    "from sklearn.model_selection import train_test_split\n",
    "from sklearn.neighbors import KNeighborsClassifier\n",
    "from sklearn.metrics import accuracy_score\n",
    "\n",
    "data = pd.read_csv(\"data_files/voice.csv\", usecols=['meanfun', 'IQR', 'label'])\n",
    "\n",
    "X_train, X_test, y_train, y_test = train_test_split(\n",
    "    data[['meanfun', 'IQR']], data['label'], test_size=0.3, random_state=42)\n",
    "\n",
    "k_values = range(1, 30)\n",
    "\n",
    "accuracies = {}\n",
    "\n",
    "for k in k_values:\n",
    "    knn = KNeighborsClassifier(n_neighbors=k)\n",
    "    knn.fit(X_train, y_train)\n",
    "    \n",
    "    y_pred = knn.predict(X_test)\n",
    "    accuracy = accuracy_score(y_test, y_pred)\n",
    "    \n",
    "    accuracies[k] = accuracy\n",
    "\n",
    "\n",
    "best_k = max(accuracies, key=accuracies.get)\n",
    "\n",
    "print(f\"Best k value: {best_k}\")\n",
    "print(f\"Accuracy: {accuracies[best_k]:.2f}\")\n"
   ]
  },
  {
   "cell_type": "markdown",
   "id": "2909b172-c379-4a28-b95a-bdd1bf5b4a8d",
   "metadata": {},
   "source": [
    "4 Define a function and include the following operations inside the function:\n",
    "   - Define a classifier\n",
    "   - Fit the data for the classifier\n",
    "   - Calculate minimum and maximum values for boundaries for meanfun and IQR\n",
    "   - Run predictions\n",
    "   - Draw a chart from predicted data utilising previously defined colormaps\n",
    "\n",
    "Utilise your function and call it using the optimal k value chosen previously."
   ]
  }
 ],
 "metadata": {
  "kernelspec": {
   "display_name": "Python 3 (ipykernel)",
   "language": "python",
   "name": "python3"
  },
  "language_info": {
   "codemirror_mode": {
    "name": "ipython",
    "version": 3
   },
   "file_extension": ".py",
   "mimetype": "text/x-python",
   "name": "python",
   "nbconvert_exporter": "python",
   "pygments_lexer": "ipython3",
   "version": "3.9.12"
  },
  "vscode": {
   "interpreter": {
    "hash": "05cbb8e30cd2cbe161554e93617827c610928832f77224aad1765f5c87120ccf"
   }
  }
 },
 "nbformat": 4,
 "nbformat_minor": 5
}
