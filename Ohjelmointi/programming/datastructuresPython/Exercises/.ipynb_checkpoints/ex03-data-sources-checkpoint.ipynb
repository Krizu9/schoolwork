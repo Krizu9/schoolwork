{
 "cells": [
  {
   "cell_type": "markdown",
   "metadata": {},
   "source": [
    "## Exercise 3 - Data sources\n",
    "- All files used in this exercise can be found under the Exercises/data_files directory"
   ]
  },
  {
   "cell_type": "markdown",
   "metadata": {},
   "source": [
    "1 Use gamedata.json for this task. This file contains information of games sold through Steam. Parse out the following information from the data:\n",
    "- TOP 3 highest metacritic score. Present results using the following format: *Title* has metacritic score of *Score* (for example)\n",
    "- Games with price discount being 90 % or more. Present results using the following format: *Title* | Discount: *Savings* (for example Metal Gear Solid V: Ground Zeroes | Discount: 90.090090)\n",
    "- Games having metacritic score higher than steam score. Present results using the following format: *Title* has metacritic score of *MetacriticScore* and steam score of *SteamRatingPercent*"
   ]
  },
  {
   "cell_type": "code",
   "execution_count": 25,
   "metadata": {},
   "outputs": [
    {
     "name": "stdout",
     "output_type": "stream",
     "text": [
      "Star Wars: Knights of the Old Republic has metacritic score of 93\n",
      "Metal Gear Solid V: The Phantom Pain has metacritic score of 91\n",
      "Bayonetta has metacritic score of 90\n",
      "\n",
      "-------------------------------------------------------------\n",
      "\n",
      "Shadow Tactics: Blades of the Shogun | Discount: 90.022506\n",
      "Airscape: The Fall of Gravity | Discount: 90.180361\n",
      "Making History: The Calm and the Storm | Discount: 90.180361\n",
      "Avencast: Rise of the Mage | Discount: 90.090090\n",
      "Metal Gear Solid V: Ground Zeroes | Discount: 90.045023\n",
      "The Way | Discount: 90.060040\n",
      "Teslagrad | Discount: 90.090090\n",
      "White Wings  | Discount: 90.045023\n",
      "Phantaruk | Discount: 90.180361\n",
      "Oozi Earth Adventure | Discount: 90.180361\n",
      "Lucius | Discount: 90.090090\n",
      "The Long Journey Home | Discount: 90.045023\n",
      "NEON STRUCT | Discount: 90.050028\n",
      "House of Caravan | Discount: 90.180361\n",
      "\n",
      "-------------------------------------------------------------\n",
      "\n",
      "NBA 2K21 has metacritic score of 67 and steam score of 39\n",
      "Commander 85 has metacritic score of 45 and steam score of 35\n",
      "Inversion has metacritic score of 59 and steam score of 57\n",
      "Bionic Commando: Rearmed has metacritic score of 86 and steam score of 71\n",
      "Metal Gear Solid V: The Phantom Pain has metacritic score of 91 and steam score of 90\n",
      "Port Royale 2 has metacritic score of 75 and steam score of 68\n",
      "Project Cars 2 has metacritic score of 84 and steam score of 79\n",
      "Full Spectrum Warrior has metacritic score of 80 and steam score of 65\n",
      "The Long Journey Home has metacritic score of 68 and steam score of 60\n",
      "Star Wars: Knights of the Old Republic has metacritic score of 93 and steam score of 90\n",
      "Starpoint Gemini Warlords has metacritic score of 73 and steam score of 72\n",
      "Tidalis has metacritic score of 75 and steam score of 70\n"
     ]
    }
   ],
   "source": [
    "import json\n",
    "\n",
    "with open('data_files/gamedata.json') as gamedata:\n",
    "    games = json.load(gamedata)\n",
    "    \n",
    "sorted_games = sorted(games, key=lambda x: x[\"metacriticScore\"], reverse=True)\n",
    "top_3 = sorted_games[:3]\n",
    "\n",
    "for game in top_3:\n",
    "    print(f\"{game['title']} has metacritic score of {game['metacriticScore']}\")\n",
    "    \n",
    "print(\"\\n-------------------------------------------------------------\\n\")\n",
    "    \n",
    "discounted_games = [game for game in games if float(game[\"savings\"]) >= 90.0]\n",
    "for game in discounted_games:\n",
    "    print(f\"{game['title']} | Discount: {game['savings']}\")\n",
    "    \n",
    "print(\"\\n-------------------------------------------------------------\\n\")\n",
    "    \n",
    "mc_higher_steam = [game for game in games if int(game[\"metacriticScore\"]) > int(game[\"steamRatingPercent\"])]\n",
    "for game in mc_higher_steam:\n",
    "    print(f\"{game['title']} has metacritic score of {game['metacriticScore']} and steam score of {game['steamRatingPercent']}\")\n",
    "    \n"
   ]
  },
  {
   "cell_type": "markdown",
   "metadata": {},
   "source": [
    "2 Use earthquakes.csv for this task. This file contains information about earthquakes recorded between 1965 and 2016. Earthquake magnitude value describes how strong the earthquake is. Magnitude information can be categorized like presented in the table below (*Source: http://www.geo.mtu.edu/UPSeis/magnitude.html*).\n",
    "\n",
    "| Magnitude      | Class | Effects |\n",
    "|----------------|-------|---------|\n",
    "| 2.4 or less    | Minor | Usually not felt, but can be recorded by seismograph. |\n",
    "| 2.5 to 5.4     | Light | Often felt, but only causes minor damage. |\n",
    "| 5.5 to 6.0     | Moderate | Slight damage to buildings and other structures. |\n",
    "| 6.1 to 6.9     | Strong | May cause a lot of damage in very populated areas. |\n",
    "| 7.0 to 7.9     | Major | Major earthquake. Serious damage. |\n",
    "| 8.0 or greater | Great | Great earthquake. Can totally destroy communities near the epicenter. |\n",
    "\n",
    "Count how many earthquakes have occurred in each class.\n",
    "\n",
    "<b style=\"color:red;\">Notice:</b> The first value has been modified to be 2.4 or less compared to the original source (has been 2.5 or less)."
   ]
  },
  {
   "cell_type": "code",
   "execution_count": 93,
   "metadata": {},
   "outputs": [
    {
     "name": "stdout",
     "output_type": "stream",
     "text": [
      "Minor:  0\n",
      "Light:  0\n",
      "Moderate:  17638\n",
      "Strong:  5035\n",
      "Major:  698\n",
      "Great:  40\n"
     ]
    }
   ],
   "source": [
    "import csv\n",
    "\n",
    "Minor = 0\n",
    "Light = 0\n",
    "Moderate = 0\n",
    "Strong = 0\n",
    "Major = 0\n",
    "Great = 0\n",
    "\n",
    "with open(\"data_files/earthquakes.csv\",\"r\") as earthquakes:\n",
    "    information = csv.reader(earthquakes)\n",
    "    \n",
    "    next(information)\n",
    "\n",
    "    for row in information:\n",
    "        magnitude = float(row[8])\n",
    "        if magnitude <= 2.4:\n",
    "            Minor += 1\n",
    "        if 2.5 <= magnitude <= 5.4:\n",
    "            Light += 1\n",
    "        if 5.5 <= magnitude <= 6.0:\n",
    "            Moderate += 1\n",
    "        if 6.1 <= magnitude <= 6.9:\n",
    "            Strong += 1\n",
    "        if 7.0 <= magnitude <= 7.9:\n",
    "            Major += 1\n",
    "        if magnitude >= 8.0:\n",
    "            Great += 1\n",
    "\n",
    "print(\"Minor: \", Minor)\n",
    "print(\"Light: \", Light)\n",
    "print(\"Moderate: \", Moderate)\n",
    "print(\"Strong: \", Strong)\n",
    "print(\"Major: \", Major)\n",
    "print(\"Great: \", Great)\n"
   ]
  },
  {
   "cell_type": "markdown",
   "metadata": {},
   "source": [
    "3 Use netflix_titles.xml for this task. This file contains information about Netflix movies and TV shows. **Important:** Movies have duration presented in minutes while TV shows have duration presented in amount of seasons! Parse out the following information from the data:\n",
    "- Movies released in 2017\n",
    "- TV show and movie amount (present both counts in separate lines)\n",
    "- Movies with a length between 15 and 20 minutes (values 15 and 20 included)"
   ]
  },
  {
   "cell_type": "code",
   "execution_count": 88,
   "metadata": {},
   "outputs": [
    {
     "name": "stdout",
     "output_type": "stream",
     "text": [
      "Number of movies: 5377\n",
      "Number of TV shows: 2410\n",
      "Number of movies released in 2017: 744\n",
      "Number of movies with duration between 15 and 20 minutes: 11\n"
     ]
    }
   ],
   "source": [
    "import xml.etree.ElementTree as e\n",
    "\n",
    "tree = e.parse(\"data_files/netflix_titles.xml\")\n",
    "root = tree.getroot()\n",
    "\n",
    "dataCollection = []\n",
    "\n",
    "titles = []\n",
    "if len(root) > 0:\n",
    "    for i in root[0]:\n",
    "        titles.append(i.tag)\n",
    "\n",
    "for elem in root:\n",
    "    information = []\n",
    "    for subelem in elem:\n",
    "        information.append(subelem.text)\n",
    "    dataCollection.append(information)\n",
    "\n",
    "information = []\n",
    "for lst in dataCollection:\n",
    "    data_obj = {}\n",
    "    for i in range(len(lst)):\n",
    "        data_obj[titles[i]] = lst[i]\n",
    "    information.append(data_obj)\n",
    "\n",
    "movieCount = 0\n",
    "tvShowCount = 0\n",
    "movies_2017 = []\n",
    "short_movies = []\n",
    "\n",
    "for row in information:\n",
    "    if row['type'] == 'Movie':\n",
    "        movieCount += 1\n",
    "    elif row['type'] == 'TV Show':\n",
    "        tvShowCount += 1\n",
    "    if row['type'] == 'Movie' and row['release_year'] == '2017':\n",
    "        movies_2017.append(row)\n",
    "    if row['type'] == 'Movie':\n",
    "        duration = row['duration']\n",
    "        if 'min' in duration:\n",
    "            minutes = int(duration.split(' ')[0])\n",
    "            if 15 <= minutes <= 20:\n",
    "                short_movies.append(row)\n",
    "\n",
    "print(f\"Number of movies: {movieCount}\")\n",
    "print(f\"Number of TV shows: {tvShowCount}\")\n",
    "print(f\"Number of movies released in 2017: {len(movies_2017)}\")\n",
    "print(f\"Number of movies with duration between 15 and 20 minutes: {len(short_movies)}\")\n"
   ]
  },
  {
   "cell_type": "markdown",
   "metadata": {},
   "source": [
    "4 Use the following Rest API for this task: https://tie.digitraffic.fi/api/v1/data/weather-data. Calculate the average for air temperature (ILMA) and humidity (ILMAN_KOSTEUS) values using two decimals."
   ]
  },
  {
   "cell_type": "code",
   "execution_count": 91,
   "metadata": {},
   "outputs": [
    {
     "name": "stdout",
     "output_type": "stream",
     "text": [
      "Average air temperature: 2.54C\n",
      "Average humidity: 39.04%\n"
     ]
    }
   ],
   "source": [
    "import requests\n",
    "\n",
    "response = requests.get('https://tie.digitraffic.fi/api/v1/data/weather-data')\n",
    "data = response.json()\n",
    "\n",
    "air_temperature_values = []\n",
    "humidity_values = []\n",
    "for station in data['weatherStations']:\n",
    "    for sensor in station['sensorValues']:\n",
    "        if sensor['name'] == 'ILMA':\n",
    "            air_temperature_values.append(sensor['sensorValue'])\n",
    "        elif sensor['name'] == 'ILMAN_KOSTEUS':\n",
    "            humidity_values.append(sensor['sensorValue'])\n",
    "\n",
    "air_temperature_average = round(sum(air_temperature_values) / len(air_temperature_values), 2)\n",
    "humidity_average = round(sum(humidity_values) / len(humidity_values), 2)\n",
    "\n",
    "print(f'Average air temperature: {air_temperature_average}C')\n",
    "print(f'Average humidity: {humidity_average}%')\n"
   ]
  },
  {
   "cell_type": "code",
   "execution_count": null,
   "metadata": {},
   "outputs": [],
   "source": []
  }
 ],
 "metadata": {
  "kernelspec": {
   "display_name": "Python 3 (ipykernel)",
   "language": "python",
   "name": "python3"
  },
  "language_info": {
   "codemirror_mode": {
    "name": "ipython",
    "version": 3
   },
   "file_extension": ".py",
   "mimetype": "text/x-python",
   "name": "python",
   "nbconvert_exporter": "python",
   "pygments_lexer": "ipython3",
   "version": "3.9.12"
  },
  "vscode": {
   "interpreter": {
    "hash": "54552f97bc2602ae194023876bb7bf74d9b2754f9f5e9b0af5545a79115ecf48"
   }
  }
 },
 "nbformat": 4,
 "nbformat_minor": 4
}
