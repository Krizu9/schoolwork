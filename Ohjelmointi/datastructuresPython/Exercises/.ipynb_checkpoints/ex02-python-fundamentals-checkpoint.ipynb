{
 "cells": [
  {
   "cell_type": "markdown",
   "metadata": {},
   "source": [
    "## Exercise 2 - Python fundamentals Part 2"
   ]
  },
  {
   "cell_type": "markdown",
   "metadata": {},
   "source": [
    "1 Create a function which will go through a list called **vars** and save the type of each variable to a new list. The starting information is given in the next cell."
   ]
  },
  {
   "cell_type": "code",
   "execution_count": 14,
   "metadata": {},
   "outputs": [
    {
     "data": {
      "text/plain": [
       "[int, str, int, float, list, bool, tuple]"
      ]
     },
     "execution_count": 14,
     "metadata": {},
     "output_type": "execute_result"
    }
   ],
   "source": [
    "#function\n",
    "def my_function():\n",
    "    new_list = []\n",
    "    for i in vars:\n",
    "        new_list.append(type(i))\n",
    "    return new_list\n",
    "\n",
    "#test\n",
    "vars = [100, \"Car\", 25000, 10.0, [\"a\", \"b\", \"c\"], True, (\"a\", \"b\")]\n",
    "my_function()\n"
   ]
  },
  {
   "cell_type": "markdown",
   "metadata": {},
   "source": [
    "2 You are given two lists **l1** and **l2**. Create a function which will take two lists as input and print values that are present in both lists."
   ]
  },
  {
   "cell_type": "code",
   "execution_count": 18,
   "metadata": {},
   "outputs": [
    {
     "data": {
      "text/plain": [
       "[1, 5, 7, 9]"
      ]
     },
     "execution_count": 18,
     "metadata": {},
     "output_type": "execute_result"
    }
   ],
   "source": [
    "# Your function here\n",
    "def my_function(l1,l2):\n",
    "    common_numbers = []\n",
    "    for i in l1:\n",
    "        if i in l2:\n",
    "            common_numbers.append(i)\n",
    "    return common_numbers\n",
    "\n",
    "# Test\n",
    "l1 = [1,4,5,7,8,9,10]\n",
    "l2 = [1,2,3,5,6,7,9]\n",
    "my_function(l1,l2)"
   ]
  },
  {
   "cell_type": "markdown",
   "metadata": {},
   "source": [
    "3 Below is a list containing words. Create a function which returns only words with length of 4 or less."
   ]
  },
  {
   "cell_type": "code",
   "execution_count": 22,
   "metadata": {},
   "outputs": [
    {
     "data": {
      "text/plain": [
       "['code', 'mill']"
      ]
     },
     "execution_count": 22,
     "metadata": {},
     "output_type": "execute_result"
    }
   ],
   "source": [
    "# Your function here\n",
    "def my_function(words):\n",
    "    fourDigitWords = []\n",
    "    for i in words:\n",
    "        if 4 == len(i):\n",
    "            fourDigitWords.append(i)\n",
    "    return fourDigitWords\n",
    "\n",
    "# Test\n",
    "words = [\"bootcamp\",\"yellow\",\"development\",\"full-time\",\"code\",\"fresh\",\"\",\"static\",\"red\",\"advance\",\"mill\",\"story\",\"are\"]\n",
    "my_function(words)"
   ]
  },
  {
   "cell_type": "markdown",
   "metadata": {},
   "source": [
    "4 Create a function which takes does the following:\n",
    "    - Take list of dictionaries containing information of data loggers presented below as an input\n",
    "    - Iterate through the dictionary and count the total amount of each sensor type. Example: {\"temp\":2,\"hum\":5,\"light\":2,\"noise\":4}.\n",
    "    - Return this dictionary"
   ]
  },
  {
   "cell_type": "code",
   "execution_count": 25,
   "metadata": {},
   "outputs": [
    {
     "data": {
      "text/plain": [
       "{'temp': 5, 'hum': 5, 'noise': 2, 'light': 3}"
      ]
     },
     "execution_count": 25,
     "metadata": {},
     "output_type": "execute_result"
    }
   ],
   "source": [
    "def my_function(sdata):\n",
    "    sensorCount = {}\n",
    "    for logger in sdata:\n",
    "        for sensor in logger[\"sensors\"]:\n",
    "            if sensor in sensorCount:\n",
    "                sensorCount[sensor] += 1\n",
    "            else:\n",
    "                sensorCount[sensor] = 1\n",
    "    return sensorCount\n",
    "\n",
    "# Data loggers\n",
    "sdata = [{\"ID\":\"logger-1\",\"sensors\":[\"temp\",\"hum\",\"noise\"]},{\"ID\":\"logger-2\",\"sensors\":[\"temp\",\"hum\"]},{\"ID\":\"logger-3\",\"sensors\":[\"temp\",\"hum\",\"light\"]},{\"ID\":\"logger-4\",\"sensors\":[\"temp\",\"hum\",\"light\"]},{\"ID\":\"logger-5\",\"sensors\":[\"temp\",\"hum\",\"noise\",\"light\"]}]\n",
    "\n",
    "my_function(sdata)"
   ]
  },
  {
   "cell_type": "code",
   "execution_count": null,
   "metadata": {},
   "outputs": [],
   "source": []
  }
 ],
 "metadata": {
  "kernelspec": {
   "display_name": "Python 3 (ipykernel)",
   "language": "python",
   "name": "python3"
  },
  "language_info": {
   "codemirror_mode": {
    "name": "ipython",
    "version": 3
   },
   "file_extension": ".py",
   "mimetype": "text/x-python",
   "name": "python",
   "nbconvert_exporter": "python",
   "pygments_lexer": "ipython3",
   "version": "3.9.12"
  },
  "vscode": {
   "interpreter": {
    "hash": "05cbb8e30cd2cbe161554e93617827c610928832f77224aad1765f5c87120ccf"
   }
  }
 },
 "nbformat": 4,
 "nbformat_minor": 4
}
