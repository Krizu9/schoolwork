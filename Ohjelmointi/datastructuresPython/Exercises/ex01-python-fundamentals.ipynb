{
 "cells": [
  {
   "cell_type": "markdown",
   "metadata": {},
   "source": [
    "## Exercise 1 - Python fundamentals Part 1"
   ]
  },
  {
   "cell_type": "markdown",
   "metadata": {},
   "source": [
    "1 Sentence is presented in the code cell below. Create a variable which has first ten and last ten characters concatenated."
   ]
  },
  {
   "cell_type": "code",
   "execution_count": 6,
   "metadata": {},
   "outputs": [
    {
     "name": "stdout",
     "output_type": "stream",
     "text": [
      "Gary must he target.\n"
     ]
    }
   ],
   "source": [
    "# Sentence\n",
    "s = \"Gary must look towards the future in order to gather enough information from the target.\"\n",
    "\n",
    "t = s[0:10] + s[78:88]\n",
    "print(t)\n",
    "\n"
   ]
  },
  {
   "cell_type": "markdown",
   "metadata": {},
   "source": [
    "2 Count the number of white spaces between words from the previous sentence and divide that number with the length of the sentence."
   ]
  },
  {
   "cell_type": "code",
   "execution_count": 9,
   "metadata": {},
   "outputs": [
    {
     "name": "stdout",
     "output_type": "stream",
     "text": [
      "0.1590909090909091\n"
     ]
    }
   ],
   "source": [
    "spaces=0\n",
    "for i in s:\n",
    "    if i == \" \":\n",
    "        spaces += 1\n",
    "print(spaces/len(s))"
   ]
  },
  {
   "cell_type": "markdown",
   "metadata": {},
   "source": [
    "3 Add the following cars to the existing list of dictionary objects:\n",
    "    - Red Toyota Corolla (1985)\n",
    "    - Lightblue Ford Mustang (1965)\n",
    "    - Black Pontiac Firebird (1987)"
   ]
  },
  {
   "cell_type": "code",
   "execution_count": 8,
   "metadata": {},
   "outputs": [
    {
     "name": "stdout",
     "output_type": "stream",
     "text": [
      "[[{'make': 'Ford', 'model': 'escort', 'color': 'green', 'year': 1994}, {'make': 'Lexus', 'model': 'IS250', 'color': 'beige', 'year': 2013}, {'make': 'Volvo', 'model': 'S40', 'color': 'blue', 'year': 1998}, {'make': 'Toyota', 'model': 'Corolla', 'color': 'Red', 'year': 1985}, {'make': 'Ford', 'model': 'Mustang', 'color': 'Lightblue', 'year': 1965}, {'make': 'Pontiac', 'model': 'Firebird', 'color': 'Black', 'year': 1987}]]\n"
     ]
    }
   ],
   "source": [
    "# Cars\n",
    "cars = [{\"make\":\"Ford\",\"model\":\"escort\",\"color\":\"green\",\"year\":1994},{\"make\":\"Lexus\",\"model\":\"IS250\",\"color\":\"beige\",\"year\":2013},{\"make\":\"Volvo\",\"model\":\"S40\",\"color\":\"blue\",\"year\":1998}]\n",
    "cars += [{\"make\": \"Toyota\", \"model\": \"Corolla\", \"color\": \"Red\", \"year\": 1985},{\"make\": \"Ford\", \"model\": \"Mustang\", \"color\": \"Lightblue\", \"year\": 1965},{\"make\": \"Pontiac\", \"model\": \"Firebird\", \"color\": \"Black\", \"year\": 1987}]\n",
    "print([cars])"
   ]
  },
  {
   "cell_type": "markdown",
   "metadata": {},
   "source": [
    "4 Convert the sentence presented below to list using commas (,) as separators. Then create a new list which contains only the last three items from the list."
   ]
  },
  {
   "cell_type": "code",
   "execution_count": 17,
   "metadata": {},
   "outputs": [
    {
     "name": "stdout",
     "output_type": "stream",
     "text": [
      "[' ball', ' tip', ' hamburger labore venison consectetur cupidatat.']\n"
     ]
    }
   ],
   "source": [
    "# Sentence\n",
    "s = \"Occaecat short ribs incididunt laboris. Bresaola, brisket ex, landjaeger ad, boudin pariatur frankfurter eu flank. Enim tail short ribs, shoulder duis minim excepteur, deserunt lorem porchetta. Dolor chicken spare ribs, id in, ball, tip, hamburger labore venison consectetur cupidatat.\"\n",
    "s_list=s.split(\",\")\n",
    "print(s_list[7:10])"
   ]
  },
  {
   "cell_type": "code",
   "execution_count": null,
   "metadata": {},
   "outputs": [],
   "source": []
  }
 ],
 "metadata": {
  "kernelspec": {
   "display_name": "Python 3 (ipykernel)",
   "language": "python",
   "name": "python3"
  },
  "language_info": {
   "codemirror_mode": {
    "name": "ipython",
    "version": 3
   },
   "file_extension": ".py",
   "mimetype": "text/x-python",
   "name": "python",
   "nbconvert_exporter": "python",
   "pygments_lexer": "ipython3",
   "version": "3.9.12"
  },
  "vscode": {
   "interpreter": {
    "hash": "54552f97bc2602ae194023876bb7bf74d9b2754f9f5e9b0af5545a79115ecf48"
   }
  }
 },
 "nbformat": 4,
 "nbformat_minor": 4
}
