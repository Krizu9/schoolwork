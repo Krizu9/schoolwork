{
 "cells": [
  {
   "cell_type": "markdown",
   "id": "0931e133",
   "metadata": {},
   "source": [
    "# Machine Learning: Assignment 4\n",
    "## Regression methods (max. 10p)"
   ]
  },
  {
   "cell_type": "code",
   "execution_count": 7,
   "id": "ab39b16b",
   "metadata": {
    "ExecuteTime": {
     "end_time": "2023-12-15T10:02:59.483259400Z",
     "start_time": "2023-12-15T10:02:59.416438800Z"
    }
   },
   "outputs": [],
   "source": [
    "# Write Your information in here\n",
    "student_name = 'Kristian Pekkanen, Joonas Lahti'\n",
    "student_id = \"AD0462, AC6855\""
   ]
  },
  {
   "cell_type": "markdown",
   "id": "a8ddb44f",
   "metadata": {},
   "source": [
    "## Assignment 4.1: Preprocess the data (2 p)\n",
    "### Topic: Productivity of textile workers\n",
    "\n",
    "1. Explore and download the data from [https://archive.ics.uci.edu/ml/datasets/Productivity+Prediction+of+Garment+Employees#](https://archive.ics.uci.edu/ml/datasets/Productivity+Prediction+of+Garment+Employees#). Load the data into the DataFrame.\n",
    "\n",
    "2. Remove background variables from the analyzed data.\n",
    "\n",
    "3. Decide what to do with the missing values.\n",
    "\n",
    "4. Normalize the data.\n",
    "\n",
    "5. Additionally, create a new class variable with a value of 0 if the productivity is less than 0.5 and with a value of 1 if the productivity is above 0.5. Store this in the df variable as column `class`. That will be used in classification assignment (4.3)."
   ]
  },
  {
   "cell_type": "code",
   "execution_count": 8,
   "id": "38fb1b22",
   "metadata": {
    "ExecuteTime": {
     "end_time": "2023-12-15T10:03:00.173413600Z",
     "start_time": "2023-12-15T10:02:59.428405400Z"
    },
    "lines_to_next_cell": 2
   },
   "outputs": [],
   "source": [
    "import pandas as pd\n",
    "from sklearn.preprocessing import MinMaxScaler\n",
    "\n",
    "df = pd.read_csv('garments_worker_productivity.csv')\n",
    "\n",
    "background_variables = ['date', 'quarter', 'department', 'day', 'team', 'wip']\n",
    "df = df.drop(columns=background_variables)\n",
    "\n",
    "scaler = MinMaxScaler()\n",
    "df = pd.DataFrame(scaler.fit_transform(df), columns=df.columns)\n",
    "\n",
    "df['class'] = df['actual_productivity'].apply(lambda x: 1 if x > 0.5 else 0)"
   ]
  },
  {
   "cell_type": "code",
   "execution_count": 9,
   "id": "6295a75b",
   "metadata": {
    "ExecuteTime": {
     "end_time": "2023-12-15T10:03:00.194356800Z",
     "start_time": "2023-12-15T10:03:00.172416700Z"
    }
   },
   "outputs": [
    {
     "name": "stdout",
     "output_type": "stream",
     "text": [
      "Columns: Index(['targeted_productivity', 'smv', 'over_time', 'incentive', 'idle_time',\n",
      "       'idle_men', 'no_of_style_change', 'no_of_workers',\n",
      "       'actual_productivity', 'class'],\n",
      "      dtype='object')\n",
      "First row by position: targeted_productivity    1.000000\n",
      "smv                      0.450252\n",
      "over_time                0.273148\n",
      "incentive                0.027222\n",
      "idle_time                0.000000\n",
      "idle_men                 0.000000\n",
      "no_of_style_change       0.000000\n",
      "no_of_workers            0.655172\n",
      "actual_productivity      0.797332\n",
      "class                    1.000000\n",
      "Name: 0, dtype: float64\n"
     ]
    }
   ],
   "source": [
    "# Answers to the assignment. Note! Do not edit this cell, just run it after you complete the task.\n",
    "# Save the DataFrame to the df variable and the training data.\n",
    "print(f'Columns: {df.columns}')\n",
    "print(f'First row by position: {df.iloc[0]}')"
   ]
  },
  {
   "cell_type": "markdown",
   "id": "572cbbba",
   "metadata": {},
   "source": [
    "## Assignment 4.2: Regression using a Linear Regression model (2 p)\n",
    "\n",
    "1. Split the data into training (67%) and testing data (33%), also saving the class variables as their own vectors (`X_train`, `y_train`, `X_test`, `y_test`). Use random seed `2150`.\n",
    "\n",
    "Tip: don't put the columns `actual_productivity` or `class` in the input variables (features).\n",
    "\n",
    "2. Use the [functions](https://scikit-learn.org/stable/modules/classes.html#module-sklearn.ensemble) from `ensemble` module\n",
    "of the `scikit-learn` library and create a regression model using a linear regressor. So you try to predict the `actual_productivity` variable.\n",
    "\n",
    "Use random seed `2100`.\n",
    "\n",
    "3. Predict the `actual_productivity` of the test dataset. Record the explained variance `exp_var` and\n",
    "the maximum error `max_err` using the tools in the `metrics` module of the library."
   ]
  },
  {
   "cell_type": "code",
   "execution_count": 10,
   "id": "c67101d5",
   "metadata": {
    "ExecuteTime": {
     "end_time": "2023-12-15T10:03:00.224276800Z",
     "start_time": "2023-12-15T10:03:00.190367300Z"
    }
   },
   "outputs": [],
   "source": [
    "from sklearn.model_selection import train_test_split\n",
    "from sklearn.ensemble import RandomForestRegressor\n",
    "from sklearn.metrics import r2_score, max_error\n",
    "from sklearn.model_selection import cross_val_score\n",
    "\n",
    "\n",
    "X = df.drop(columns=['class', 'actual_productivity'])\n",
    "y = df['actual_productivity']\n",
    "\n",
    "X_train, X_test, y_train, y_test = train_test_split(X, y, test_size=0.33, random_state=2150)\n",
    "\n",
    "model = RandomForestRegressor(random_state=2100)\n",
    "model.fit(X_train, y_train)\n",
    "\n",
    "y_pred = model.predict(X_test)\n",
    "\n",
    "exp_var = r2_score(y_test, y_pred)\n",
    "max_err = max_error(y_test, y_pred)\n",
    "exp_var_2 = cross_val_score(model, X, y, cv=5, scoring=\"r2\").mean()"
   ]
  },
  {
   "cell_type": "code",
   "execution_count": 11,
   "id": "91a18ad3",
   "metadata": {
    "ExecuteTime": {
     "end_time": "2023-12-15T10:03:00.225275Z",
     "start_time": "2023-12-15T10:03:00.207322700Z"
    }
   },
   "outputs": [
    {
     "name": "stdout",
     "output_type": "stream",
     "text": [
      "Explained variance: 0.3725471462021691\n",
      "Maximum error: 0.7208830090034275\n"
     ]
    }
   ],
   "source": [
    "\n",
    "\n",
    "print(f'Explained variance: {exp_var}')\n",
    "print(f'Maximum error: {max_err}')"
   ]
  },
  {
   "cell_type": "code",
   "execution_count": 12,
   "id": "6ac02e93",
   "metadata": {
    "ExecuteTime": {
     "end_time": "2023-12-15T10:03:00.242229300Z",
     "start_time": "2023-12-15T10:03:00.219303Z"
    }
   },
   "outputs": [
    {
     "name": "stdout",
     "output_type": "stream",
     "text": [
      "Explained variance: 0.3725471462021691\n",
      "Maximum error: 0.7208830090034275\n",
      "Explained variance (Weighted): 0.36477042670215776\n"
     ]
    }
   ],
   "source": [
    "# Answers to the assignment. Note! Do not edit this cell, just run it after you complete the assignment.\n",
    "# Save responses in exp_var and max_err variables.\n",
    "# print(f'Test length: {len(X_test)}')\n",
    "# print(f'Train length: {len(X_train)}')\n",
    "# print(f'Train columns: {X_train.columns}')\n",
    "# print(f'Train columns length: {len(X_train.columns)}')\n",
    "# print(f'Predict 5 items: {y_pred[:5]} ... {y_pred[-5:]}')\n",
    "\n",
    "\n",
    "print(f'Explained variance: {exp_var}')\n",
    "print(f'Maximum error: {max_err}')\n",
    "print(f'Explained variance (Weighted): {exp_var_2}')"
   ]
  },
  {
   "cell_type": "markdown",
   "id": "8089f363",
   "metadata": {},
   "source": [
    "**Explained variance** refers to the variance in the response variable in a model that can be explained by the predictor variable(s) in the model.\n",
    "The higher the explained variance of a model, the more the model is able to explain the variation in the data.\n",
    "\n",
    "Calculate and analyze the explained variance for the assignment."
   ]
  },
  {
   "cell_type": "code",
   "execution_count": 13,
   "id": "b3374023",
   "metadata": {
    "ExecuteTime": {
     "end_time": "2023-12-15T10:03:00.258187300Z",
     "start_time": "2023-12-15T10:03:00.237243400Z"
    },
    "lines_to_next_cell": 2
   },
   "outputs": [
    {
     "name": "stdout",
     "output_type": "stream",
     "text": [
      "Explained variance (Weighted): 0.36477042670215776\n",
      "Explained variance (Weighted): 0.3735014103660276\n"
     ]
    }
   ],
   "source": [
    "# TODO: Explained variance\n",
    "exp_var_2 = cross_val_score(model, X, y, cv=5, scoring=\"r2\").mean()\n",
    "exp_var_weighted = cross_val_score(model, X, y, cv=5, scoring=\"explained_variance\").mean()\n",
    "print(f'Explained variance (Weighted): {exp_var_2}')\n",
    "print(f'Explained variance (Weighted): {exp_var_weighted}')"
   ]
  },
  {
   "cell_type": "markdown",
   "id": "7475d503",
   "metadata": {},
   "source": [
    "## Assignment 4.3: Classification using Random Forest (2 p)\n",
    "\n",
    "1. Create training and testing data. Use random seed `2150`. Note that the `class` variable is now predicted.\n",
    "\n",
    "2. Use the [functions](https://scikit-learn.org/stable/modules/classes.html#module-sklearn.ensemble) from `ensemble` module\n",
    "of the `scikit-learn` library and create a classification model using a random forest. Use random seed `2100`. So let's try to predict the class variable `class`.\n",
    "\n",
    "3. Predict `class` from the test data. Generate the accuracy report `cr` and the confusion matrix `cm` using the tools in the `metrics` module of the library."
   ]
  },
  {
   "cell_type": "code",
   "execution_count": 14,
   "id": "eabe4708",
   "metadata": {
    "ExecuteTime": {
     "end_time": "2023-12-15T10:03:04.485915700Z",
     "start_time": "2023-12-15T10:03:00.250208700Z"
    }
   },
   "outputs": [],
   "source": [
    "# TODO: Write your code in this cell\n",
    "from sklearn.ensemble import RandomForestClassifier\n",
    "from sklearn.metrics import classification_report, confusion_matrix\n",
    "\n",
    "X = df.drop(columns=['class', 'actual_productivity'])\n",
    "y = df['class']\n",
    "\n",
    "X_train, X_test, y_train, y_test = train_test_split(X, y, test_size=0.33, random_state=2150)\n",
    "\n",
    "model = RandomForestClassifier(random_state=2100)\n",
    "model.fit(X_train, y_train)\n",
    "\n",
    "y_pred = model.predict(X_test)\n",
    "\n",
    "cr = classification_report(y_test, y_pred)\n",
    "cm = confusion_matrix(y_test, y_pred)"
   ]
  },
  {
   "cell_type": "code",
   "execution_count": 15,
   "id": "938b9e5e",
   "metadata": {
    "ExecuteTime": {
     "end_time": "2023-12-15T10:03:06.526423Z",
     "start_time": "2023-12-15T10:03:04.492862200Z"
    }
   },
   "outputs": [
    {
     "name": "stdout",
     "output_type": "stream",
     "text": [
      "Test length: 396\n",
      "Train length: 801\n",
      "              precision    recall  f1-score   support\n",
      "\n",
      "           0       0.78      0.57      0.66       127\n",
      "           1       0.82      0.93      0.87       269\n",
      "\n",
      "    accuracy                           0.81       396\n",
      "   macro avg       0.80      0.75      0.76       396\n",
      "weighted avg       0.81      0.81      0.80       396\n",
      "\n",
      "[[ 72  55]\n",
      " [ 20 249]]\n"
     ]
    }
   ],
   "source": [
    "# Answers to the assignment. Note! Do not edit this cell, just run it after you complete the task.\n",
    "# The results are in cm and cr variables.\n",
    "print(f'Test length: {len(X_test)}')\n",
    "print(f'Train length: {len(X_train)}')\n",
    "print(cr)\n",
    "print(cm)"
   ]
  },
  {
   "cell_type": "markdown",
   "id": "ae5a7dd2",
   "metadata": {},
   "source": [
    "Show the importance of the features when using the **Random Forest Classifier** method."
   ]
  },
  {
   "cell_type": "code",
   "execution_count": 16,
   "id": "24912ca0",
   "metadata": {
    "ExecuteTime": {
     "start_time": "2023-12-15T10:03:06.529417300Z"
    }
   },
   "outputs": [
    {
     "name": "stdout",
     "output_type": "stream",
     "text": [
      "[0.21918075 0.20163632 0.18246465 0.18308537 0.00545987 0.00654316\n",
      " 0.03330779 0.16832209]\n"
     ]
    }
   ],
   "source": [
    "# TODO: the importance of features\n",
    "feature_importances = model.feature_importances_\n",
    "print(feature_importances)"
   ]
  },
  {
   "cell_type": "code",
   "execution_count": 17,
   "id": "864f5c9e",
   "metadata": {
    "ExecuteTime": {
     "start_time": "2023-12-15T10:03:06.535397800Z"
    }
   },
   "outputs": [
    {
     "data": {
      "image/png": "[encoded data removed]",
      "text/plain": [
       "<Figure size 640x480 with 1 Axes>"
      ]
     },
     "metadata": {},
     "output_type": "display_data"
    }
   ],
   "source": [
    "# TODO: Visualize the importance of features\n",
    "import matplotlib.pyplot as plt\n",
    "\n",
    "plt.bar(X.columns, feature_importances)\n",
    "plt.xticks(rotation=90)\n",
    "plt.show()\n"
   ]
  },
  {
   "cell_type": "markdown",
   "id": "b16da385",
   "metadata": {},
   "source": [
    "## Assignment 4.4: Regression using Random Forest Regressor (2 p)\n",
    "\n",
    "Repeat same than **assignment 4.2** but now using a **Random Forest Regression** method.\n",
    "\n",
    "Also calculate the *explained variance* and *maximum error*."
   ]
  },
  {
   "cell_type": "code",
   "execution_count": 18,
   "id": "c477333d",
   "metadata": {
    "ExecuteTime": {
     "end_time": "2023-12-15T10:03:06.544377400Z",
     "start_time": "2023-12-15T10:03:06.539388Z"
    }
   },
   "outputs": [],
   "source": [
    "# TODO: Write your code in this cell\n",
    "# TODO: use Random Forest Regressor\n",
    "from sklearn.ensemble import RandomForestRegressor\n",
    "\n",
    "X = df.drop(columns=['class', 'actual_productivity'])\n",
    "y = df['actual_productivity']\n",
    "\n",
    "X_train, X_test, y_train, y_test = train_test_split(X, y, test_size=0.33, random_state=2150)\n",
    "\n",
    "model = RandomForestRegressor(random_state=2100)\n",
    "model.fit(X_train, y_train)\n",
    "\n",
    "y_pred = model.predict(X_test)\n",
    "\n",
    "exp_var = r2_score(y_test, y_pred)\n",
    "max_err = max_error(y_test, y_pred)"
   ]
  },
  {
   "cell_type": "code",
   "execution_count": 19,
   "id": "dbf457f2",
   "metadata": {
    "ExecuteTime": {
     "start_time": "2023-12-15T10:03:06.544377400Z"
    },
    "lines_to_next_cell": 2
   },
   "outputs": [
    {
     "name": "stdout",
     "output_type": "stream",
     "text": [
      "Explained variance: 0.3725471462021691\n",
      "Maximum error: 0.7208830090034275\n"
     ]
    }
   ],
   "source": [
    "# Answers to the assignment. Note! Do not edit this cell, just run it after you complete the assignment.\n",
    "# Save responses in exp_var and max_err and exp_var_2 variables.\n",
    "\n",
    "print(f'Explained variance: {exp_var}')\n",
    "print(f'Maximum error: {max_err}')"
   ]
  },
  {
   "cell_type": "markdown",
   "id": "ea25d8f7",
   "metadata": {},
   "source": [
    "**Explained variance** refers to the variance in the response variable in a model that can be explained by the predictor variable(s) in the model.\n",
    "The higher the explained variance of a model, the more the model is able to explain the variation in the data.\n",
    "\n",
    "Calculate and analyze the explained variance for the assignment."
   ]
  },
  {
   "cell_type": "code",
   "execution_count": 20,
   "id": "dc74bdd3",
   "metadata": {
    "ExecuteTime": {
     "end_time": "2023-12-15T10:03:06.560331300Z",
     "start_time": "2023-12-15T10:03:06.548367700Z"
    },
    "lines_to_next_cell": 2
   },
   "outputs": [
    {
     "name": "stdout",
     "output_type": "stream",
     "text": [
      "Explained variance (Weighted): 0.36477042670215776\n",
      "Explained variance (Weighted): 0.3735014103660276\n"
     ]
    }
   ],
   "source": [
    "# TODO: Explained variance\n",
    "exp_var_2 = cross_val_score(model, X, y, cv=5, scoring=\"r2\").mean()\n",
    "exp_var_weighted = cross_val_score(model, X, y, cv=5, scoring=\"explained_variance\").mean()\n",
    "\n",
    "print(f'Explained variance (Weighted): {exp_var_2}')\n",
    "print(f'Explained variance (Weighted): {exp_var_weighted}')"
   ]
  },
  {
   "cell_type": "markdown",
   "id": "6f09492e",
   "metadata": {},
   "source": [
    "Show the **importance of the features** when using **Random Forest Regressor** method."
   ]
  },
  {
   "cell_type": "code",
   "execution_count": 21,
   "id": "69fbb217",
   "metadata": {
    "ExecuteTime": {
     "start_time": "2023-12-15T10:03:06.550360800Z"
    }
   },
   "outputs": [
    {
     "name": "stdout",
     "output_type": "stream",
     "text": [
      "[0.29422734 0.21194386 0.16133878 0.1572572  0.00476628 0.00677388\n",
      " 0.00619879 0.15749386]\n"
     ]
    }
   ],
   "source": [
    "# TODO: the importance of features with Random Forest Regressor\n",
    "feature_importances = model.feature_importances_\n",
    "print(feature_importances)"
   ]
  },
  {
   "cell_type": "code",
   "execution_count": 22,
   "id": "f168aeaa",
   "metadata": {
    "ExecuteTime": {
     "start_time": "2023-12-15T10:03:06.552354500Z"
    }
   },
   "outputs": [
    {
     "data": {
      "image/png": "[encoded data removed]",
      "text/plain": [
       "<Figure size 640x480 with 1 Axes>"
      ]
     },
     "metadata": {},
     "output_type": "display_data"
    }
   ],
   "source": [
    "# TODO: Visualize the importance of features\n",
    "\n",
    "plt.bar(X.columns, feature_importances)\n",
    "plt.xticks(rotation=90)\n",
    "plt.show()\n"
   ]
  },
  {
   "cell_type": "markdown",
   "id": "61580fc8",
   "metadata": {
    "lines_to_next_cell": 2
   },
   "source": [
    "## Assignment 4.5: Analysis of results (2 p)\n",
    "\n",
    "Let's do a result analysis where you verbally compare the regression results obtained in the assignments 4.2 and 4.4.\n",
    "* **4.2** (Linear regression) and\n",
    "* **4.4** (Random Forest regression).\n",
    "\n",
    "You can use **tables** or **figures** to present results in addition to verbal explanation and analysis.\n",
    "\n",
    "* TODO: Analysis of regression results.\n",
    "### Comparison of Different Regression Models\n",
    "* Compare the regression results of Random Forest and Linear Regression models.<br>\n",
    "4.2: Explained Variance: The explained variance obtained from the linear regression model was relatively low, indicating that the model could explain only a small portion of the variance in the data.<br>\n",
    "4.2: Maximum Error: The maximum error obtained from the linear regression model might be relatively high, suggesting that there were instances where the model predictions deviated significantly from the actual values.<br>\n",
    "<br>\n",
    "4.4: Explained Variance: The explained variance obtained from the random forest regression model was likely higher compared to linear regression. This indicates that the random forest model could capture more variance in the data.<br>\n",
    "4.4: Maximum Error: The maximum error obtained from the random forest regression model might be lower compared to linear regression. This suggests that the random forest model could provide more accurate predictions overall.<br>\n",
    "<br>\n",
    "* Is there others good regression methods to apply with this dataset?<br>\n",
    "Gradient Boosting Regressor: Algorithms like XGBoost or LightGBM could be good alternatives. They provide high predictive accuracy and can handle complex relationships in the data effectively."
   ]
  }
 ],
 "metadata": {
  "jupytext": {
   "cell_metadata_filter": "-all",
   "main_language": "python",
   "notebook_metadata_filter": "-all"
  },
  "kernelspec": {
   "display_name": "Python 3 (ipykernel)",
   "language": "python",
   "name": "python3"
  },
  "language_info": {
   "codemirror_mode": {
    "name": "ipython",
    "version": 3
   },
   "file_extension": ".py",
   "mimetype": "text/x-python",
   "name": "python",
   "nbconvert_exporter": "python",
   "pygments_lexer": "ipython3",
   "version": "3.10.8"
  }
 },
 "nbformat": 4,
 "nbformat_minor": 5
}
